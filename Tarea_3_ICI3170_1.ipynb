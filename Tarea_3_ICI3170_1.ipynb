{
  "nbformat": 4,
  "nbformat_minor": 0,
  "metadata": {
    "colab": {
      "provenance": [],
      "include_colab_link": true
    },
    "kernelspec": {
      "name": "ir",
      "display_name": "R"
    },
    "language_info": {
      "name": "R"
    }
  },
  "cells": [
    {
      "cell_type": "markdown",
      "metadata": {
        "id": "view-in-github",
        "colab_type": "text"
      },
      "source": [
        "<a href=\"https://colab.research.google.com/github/DarkSoulless/Hardware-y-Sistemas/blob/main/Tarea_3_ICI3170_1.ipynb\" target=\"_parent\"><img src=\"https://colab.research.google.com/assets/colab-badge.svg\" alt=\"Open In Colab\"/></a>"
      ]
    },
    {
      "cell_type": "markdown",
      "source": [
        "Incorporar el desarrollo del Item junto con los comentarios solicitados en celdas independientes. Siga el ejemplo:\n",
        "*Codigo; Salida de codigo; comentarios*"
      ],
      "metadata": {
        "id": "KCOMJ0s1kVnG"
      }
    },
    {
      "cell_type": "markdown",
      "source": [
        "\n",
        "# Tarea 3\n",
        "\n",
        "## Integrantes\n",
        "\n",
        "- Samira Becerra\n",
        "- Patricio Henríquez\n",
        "\n"
      ],
      "metadata": {
        "id": "StMM0D1OxUQ8"
      }
    },
    {
      "cell_type": "markdown",
      "source": [
        "##PREGUNTA 1 (Teorema del límite central e intervalos de confianza)\n"
      ],
      "metadata": {
        "id": "iII5-x9WbXfr"
      }
    },
    {
      "cell_type": "markdown",
      "source": [
        "## Desarrollo Item 1.a.\n",
        "\n"
      ],
      "metadata": {
        "id": "Q0h5E1jxxzW9"
      }
    },
    {
      "cell_type": "code",
      "execution_count": null,
      "metadata": {
        "id": "nW0h5L8mw_yg"
      },
      "outputs": [],
      "source": [
        "set.seed(123) # Fijar semilla para reproducibilidad\n",
        "lambda <- 100.5\n",
        "liters <- replicate(500, sum(rpois(1000, lambda)))"
      ]
    },
    {
      "cell_type": "markdown",
      "source": [
        "## Desarrollo Item 1.b.\n"
      ],
      "metadata": {
        "id": "MpjtWTsnl7Q7"
      }
    },
    {
      "cell_type": "code",
      "source": [
        "summary(liters/1000)\n",
        "cat(\"\\n\")\n",
        "summary(liters)"
      ],
      "metadata": {
        "colab": {
          "base_uri": "https://localhost:8080/",
          "height": 104
        },
        "id": "WezBjOOuKOKP",
        "outputId": "c1ffe904-145a-4708-8651-2540499373a8"
      },
      "execution_count": null,
      "outputs": [
        {
          "output_type": "display_data",
          "data": {
            "text/plain": [
              "   Min. 1st Qu.  Median    Mean 3rd Qu.    Max. \n",
              "  99.74  100.29  100.49  100.50  100.69  101.74 "
            ]
          },
          "metadata": {}
        },
        {
          "output_type": "stream",
          "name": "stdout",
          "text": [
            "\n"
          ]
        },
        {
          "output_type": "display_data",
          "data": {
            "text/plain": [
              "   Min. 1st Qu.  Median    Mean 3rd Qu.    Max. \n",
              "  99742  100288  100491  100499  100693  101736 "
            ]
          },
          "metadata": {}
        }
      ]
    },
    {
      "cell_type": "code",
      "source": [
        "mean_bacteria <- liters / 1000 # Promedio por litro\n",
        "histo <- hist(mean_bacteria, breaks = 30, main = \"Concentración promedio de bacterias por litro\",\n",
        "xlab = \"Promedio de bacterias\")"
      ],
      "metadata": {
        "id": "xs6KgKRJmLR-",
        "colab": {
          "base_uri": "https://localhost:8080/",
          "height": 437
        },
        "outputId": "aa27d710-2a6d-427d-ce4a-fddae6e4935f"
      },
      "execution_count": null,
      "outputs": [
        {
          "output_type": "display_data",
          "data": {
            "text/plain": [
              "Plot with title “Concentración promedio de bacterias por litro”"
            ],
            "image/png": "[encoded data removed]"
          },
          "metadata": {
            "image/png": {
              "width": 420,
              "height": 420
            }
          }
        }
      ]
    },
    {
      "cell_type": "markdown",
      "source": [
        "Comentarios: Se calcula el error estándar de la media para evaluar la precisión de la estimación de la media poblacional basada en la muestra. Este valor es clave para medir la variabilidad esperada de las medias muestrales y es utilizado en la construcción de intervalos de confianza y pruebas de hipótesis.\n",
        "\n"
      ],
      "metadata": {
        "id": "8ddaMikImlBQ"
      }
    },
    {
      "cell_type": "markdown",
      "source": [
        "## Desarrollo Item 1.c.\n"
      ],
      "metadata": {
        "id": "6VnyBJQ3F9yW"
      }
    },
    {
      "cell_type": "code",
      "source": [
        "# Combinar\n",
        "mean_bacteria <- liters / 1000 # Promedio por litro\n",
        "cat(\"Media (bacterias/litro):\", mean (mean_bacteria))\n",
        "\n",
        "hist(mean_bacteria, breaks = 30, probability = TRUE,\n",
        " main = \"Concentración promedio de bacterias por litro\",\n",
        " xlab = \"Promedio de bacterias\")\n",
        "\n",
        "mean_teorica <- lambda\n",
        "sd_teorica <- sqrt(lambda / 1000) # Desviación estándar de la media\n",
        "curve(dnorm(x, mean = mean_teorica, sd = sd_teorica), add = TRUE, col = \"red\", lwd = 2)"
      ],
      "metadata": {
        "id": "f9QVrnlTF9yY",
        "colab": {
          "base_uri": "https://localhost:8080/",
          "height": 454
        },
        "outputId": "fe0922ef-e61a-499d-d629-927cbf265498"
      },
      "execution_count": null,
      "outputs": [
        {
          "output_type": "stream",
          "name": "stdout",
          "text": [
            "Media (bacterias/litro): 100.4992"
          ]
        },
        {
          "output_type": "display_data",
          "data": {
            "text/plain": [
              "Plot with title “Concentración promedio de bacterias por litro”"
            ],
            "image/png": "[encoded data removed]"
          },
          "metadata": {
            "image/png": {
              "width": 420,
              "height": 420
            }
          }
        }
      ]
    },
    {
      "cell_type": "markdown",
      "source": [
        "Comentarios: Se construye un intervalo de confianza al 95% para la media muestral utilizando el error estándar. Este intervalo representa el rango en el que, con un 95% de confianza, se espera que se encuentre la verdadera media poblacional. Los resultados obtenidos permiten evaluar si la media muestral supera o no los límites establecidos para el análisis.\n",
        "\n"
      ],
      "metadata": {
        "id": "b7PMpaoRF9yZ"
      }
    },
    {
      "cell_type": "markdown",
      "source": [
        "## Desarrollo Item 1.d.\n"
      ],
      "metadata": {
        "id": "dKCGjtkjF-DZ"
      }
    },
    {
      "cell_type": "code",
      "source": [
        "mean_sample <- mean(mean_bacteria)\n",
        "sd_sample <- sd(mean_bacteria)\n",
        "\n",
        "ic <- 0.95\n",
        "alpha <- 1-ic\n",
        "\n",
        "n <- length(mean_bacteria)\n",
        "z <- qnorm((1+ic)/2) #Visualización de Z\n",
        "cat(\"Valor de Z:\", z, \"\\n\")\n",
        "\n",
        "error_margin <- z * sd_sample / sqrt(n) #Calculo del error\n",
        "ci <- c(mean_sample - error_margin,\";\", mean_sample + error_margin)\n",
        "\n",
        "cat(\"Error Estándar:\", error_margin,\"\\n\")\n",
        "cat(\"Comprobación del IC: [\",ci, \"]\")\n",
        "# Verificar si supera el límite\n",
        "mean_sample > 100000 #Si es FALSE entonces NO supera el limite establecido."
      ],
      "metadata": {
        "id": "B687qLRwF-DZ",
        "colab": {
          "base_uri": "https://localhost:8080/",
          "height": 86
        },
        "outputId": "8c19a80e-db58-4795-fdd8-f8704bda40a1"
      },
      "execution_count": null,
      "outputs": [
        {
          "output_type": "stream",
          "name": "stdout",
          "text": [
            "Valor de Z: 1.959964 \n",
            "Error Estándar: 0.02658268 \n",
            "Comprobación del IC: [ 100.472573317459 ; 100.525738682541 ]"
          ]
        },
        {
          "output_type": "display_data",
          "data": {
            "text/html": [
              "FALSE"
            ],
            "text/markdown": "FALSE",
            "text/latex": "FALSE",
            "text/plain": [
              "[1] FALSE"
            ]
          },
          "metadata": {}
        }
      ]
    },
    {
      "cell_type": "markdown",
      "source": [
        "Comentarios: En base a los datos presentados, la concentración de bacterias por litro no supera el límite establecido, ya que, su concentración, se encuentra dentro de IC.\n"
      ],
      "metadata": {
        "id": "ltYHQxHIF-Da"
      }
    },
    {
      "cell_type": "markdown",
      "source": [
        "##PREGUNTA 2"
      ],
      "metadata": {
        "id": "U4Ea5c1BnKyp"
      }
    },
    {
      "cell_type": "markdown",
      "source": [
        "## Desarrollo Item 2.a"
      ],
      "metadata": {
        "id": "1sDAdir4nP3W"
      }
    },
    {
      "cell_type": "markdown",
      "source": [
        "Hipótesis:\n",
        "\n",
        "𝐻 0 : *μ* = 1.0\n",
        "\n",
        "𝐻 1 : *μ* ≠ 1.0\n"
      ],
      "metadata": {
        "id": "lyG7yv7b2L6t"
      }
    },
    {
      "cell_type": "code",
      "source": [
        "sample_mean <- 1.03 #Media Muestral\n",
        "pop_mean <- 1.0 #Media Poblacional\n",
        "sample_sd <- 0.5 #Desviación Estándar\n",
        "n <- 100 #Tamaño de la muestra\n",
        "alpha <- 0.05 #Nivel de significacia\n",
        "grades <- n-1\n",
        "\n",
        "z <- (sample_mean - pop_mean) / (sample_sd / sqrt(n))\n",
        "tcritical <- qt(1 - alpha / 2, df = grades)\n",
        "p_value <- 2 * (1 - pnorm(abs(z)))\n",
        "\n",
        "cat(\"Valor del estadístico observado:\", z, \"\\n\")\n",
        "cat(\"Valor críticos:\", tcritical, \"\\n\")\n",
        "cat(\"Valor de p:\", p_value)\n",
        "p_value < 0.05 #Rechazar o no H0"
      ],
      "metadata": {
        "id": "qy7zRvrbnPLG",
        "colab": {
          "base_uri": "https://localhost:8080/",
          "height": 86
        },
        "outputId": "1193c66c-aa14-4370-90aa-814b3a71d2df"
      },
      "execution_count": null,
      "outputs": [
        {
          "output_type": "stream",
          "name": "stdout",
          "text": [
            "Valor del estadístico observado: 0.6 \n",
            "Valor críticos: 1.984217 \n",
            "Valor de p: 0.5485062"
          ]
        },
        {
          "output_type": "display_data",
          "data": {
            "text/html": [
              "FALSE"
            ],
            "text/markdown": "FALSE",
            "text/latex": "FALSE",
            "text/plain": [
              "[1] FALSE"
            ]
          },
          "metadata": {}
        }
      ]
    },
    {
      "cell_type": "markdown",
      "source": [
        "Comentarios: Se realiza un test de hipótesis bilateral para comparar la media muestral con la media poblacional, utilizando la estadística Z.\n",
        "Este enfoque es válido debido al gran tamaño de la muestra (n=100), que permite asumir la normalidad gracias al teorema del límite central.\n",
        "Dado que el valor de p es mayor al nivel de significancia (𝛼 = 0.05), no se rechaza la hipótesis nula (𝐻0). Por lo tanto, no hay evidencia suficiente para afirmar que la media de la muestra difiera significativamente de 1.0.\n"
      ],
      "metadata": {
        "id": "k9HQPECYn0ND"
      }
    },
    {
      "cell_type": "markdown",
      "source": [
        "## Desarrollo Item 2.b."
      ],
      "metadata": {
        "id": "J-RgJVjLn8TP"
      }
    },
    {
      "cell_type": "markdown",
      "source": [
        "Hipótesis:\n",
        "\n",
        "𝐻 0 : *μ* = 2.0\n",
        "\n",
        "𝐻 1 : *μ* ≠ 2.0\n"
      ],
      "metadata": {
        "id": "x1dkTpTG4Hsz"
      }
    },
    {
      "cell_type": "code",
      "source": [
        "sample_mean <- 2.05 #Media Muestral\n",
        "pop_mean <- 2.0 #Media Poblacional\n",
        "sample_sd <- 1.5 #Desviación Estándar\n",
        "n <- 50 #Tamaño de la muestra\n",
        "alpha <- 0.01 #Nivel de significacia\n",
        "grades <- n-1\n",
        "\n",
        "z <- (sample_mean - pop_mean) / (sample_sd / sqrt(n))\n",
        "tcritical <- qt(1 - alpha / 2, df = grades)\n",
        "p_value <- 2 * (1 - pnorm(abs(z)))\n",
        "\n",
        "cat(\"Valor del estadístico observado:\", z, \"\\n\")\n",
        "cat(\"Valor críticos:\", tcritical, \"\\n\")\n",
        "cat(\"Valor de p:\", p_value)\n",
        "p_value < 0.01 #Rechazar o no H0"
      ],
      "metadata": {
        "id": "BHXxea3qucDE",
        "colab": {
          "base_uri": "https://localhost:8080/",
          "height": 86
        },
        "outputId": "41325137-9123-49ef-f1c7-3cfd63aab4ac"
      },
      "execution_count": null,
      "outputs": [
        {
          "output_type": "stream",
          "name": "stdout",
          "text": [
            "Valor del estadístico observado: 0.2357023 \n",
            "Valor críticos: 2.679952 \n",
            "Valor de p: 0.8136637"
          ]
        },
        {
          "output_type": "display_data",
          "data": {
            "text/html": [
              "FALSE"
            ],
            "text/markdown": "FALSE",
            "text/latex": "FALSE",
            "text/plain": [
              "[1] FALSE"
            ]
          },
          "metadata": {}
        }
      ]
    },
    {
      "cell_type": "markdown",
      "source": [
        "Comentarios: Similar al caso anterior, se realiza un test de hipótesis bilateral para evaluar si la media muestral difiere significativamente de la media poblacional, pero con un nivel de significancia más estricto (\n",
        "𝛼\n",
        "=\n",
        "0.01\n",
        "α=0.01).\n",
        "La estadística utilizada es nuevamente Z, adecuada dado el tamaño de la muestra y la información sobre la desviación estándar.\n",
        "El valor de p obtenido es superior al nivel de significancia, por lo que no se rechaza\n",
        "𝐻\n",
        "0\n",
        "H\n",
        "0\n",
        "​\n",
        " . No hay evidencia suficiente para concluir que la media muestral sea significativamente diferente de 2.0.\n"
      ],
      "metadata": {
        "id": "S9VCp0oZLOOg"
      }
    },
    {
      "cell_type": "markdown",
      "source": [
        "## Desarrollo Item 2.c."
      ],
      "metadata": {
        "id": "5rvZIrwdLRvg"
      }
    },
    {
      "cell_type": "markdown",
      "source": [
        "Hipótesis:\n",
        "\n",
        "𝐻 0 : *μ* = 100000\n",
        "\n",
        "𝐻 1 : *μ* > 100000\n"
      ],
      "metadata": {
        "id": "Y7MQlPrY5Wi_"
      }
    },
    {
      "cell_type": "code",
      "source": [
        "pop_mean <- 100000 #Media Poblacional\n",
        "grades <- n-1 #Grados de Libertad\n",
        "alpha <- 0.05\n",
        "desv <- sd(mean_bacteria) #Desviación Estándar\n",
        "\n",
        "tcritical <- qt(1 - alpha, df = grades)\n",
        "z <- (mean_sample - pop_mean) / (sd_sample / sqrt(n))\n",
        "p_value <- 1 - pnorm(z)\n",
        "\n",
        "cat(\"Media\", mean_sample, \"\\n\")\n",
        "cat(\"Desviación  Estándar:\", desv, \"\\n\")\n",
        "cat(\"Valor críticos:\", tcritical, \"\\n\")\n",
        "cat(\"Valor del estadístico observado:\", z, \"\\n\")\n",
        "cat(\"Valor de p:\", p_value)\n",
        "p_value < 0.05 #Rechazar o no H0"
      ],
      "metadata": {
        "colab": {
          "base_uri": "https://localhost:8080/",
          "height": 121
        },
        "id": "Gr-y3ijVLRvg",
        "outputId": "4963ed8e-1448-4242-ca2e-13385a3f76ad"
      },
      "execution_count": null,
      "outputs": [
        {
          "output_type": "stream",
          "name": "stdout",
          "text": [
            "Media 100.4992 \n",
            "Desviación  Estándar: 0.3032744 \n",
            "Valor críticos: 1.676551 \n",
            "Valor del estadístico observado: -2329231 \n",
            "Valor de p: 1"
          ]
        },
        {
          "output_type": "display_data",
          "data": {
            "text/html": [
              "FALSE"
            ],
            "text/markdown": "FALSE",
            "text/latex": "FALSE",
            "text/plain": [
              "[1] FALSE"
            ]
          },
          "metadata": {}
        }
      ]
    },
    {
      "cell_type": "markdown",
      "source": [
        "Comentarios: Se utiliza un test de hipótesis unilateral para evaluar si la media muestral es mayor que un valor poblacional hipotético (100,000).\n",
        "En este caso, dado que el valor de p es 1 (muy por encima de\n",
        "𝛼\n",
        "=\n",
        "0.05\n",
        "α=0.05), no se rechaza la hipótesis nula.\n",
        "Este resultado indica que no hay evidencia suficiente para concluir que la media de la muestra sea mayor a 100,000.\n",
        "Además, los valores críticos y la estadística Z refuerzan esta conclusión, mostrando que el promedio calculado es significativamente menor al valor hipotético.\n"
      ],
      "metadata": {
        "id": "XqPjx425LRvh"
      }
    }
  ]
}